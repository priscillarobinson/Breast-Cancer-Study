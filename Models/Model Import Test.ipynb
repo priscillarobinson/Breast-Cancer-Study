{
 "cells": [
  {
   "cell_type": "code",
   "execution_count": 2,
   "id": "5a186b28",
   "metadata": {},
   "outputs": [],
   "source": [
    "import joblib"
   ]
  },
  {
   "cell_type": "code",
   "execution_count": 5,
   "id": "99e252e7",
   "metadata": {},
   "outputs": [],
   "source": [
    "loaded_model = joblib.load(\"randomForest_model.pkl\")\n"
   ]
  },
  {
   "cell_type": "code",
   "execution_count": 7,
   "id": "5c7278e9",
   "metadata": {},
   "outputs": [],
   "source": [
    "loaded_scaler = joblib.load(\"scaler.pk1\")"
   ]
  },
  {
   "cell_type": "code",
   "execution_count": 38,
   "id": "911534ce",
   "metadata": {},
   "outputs": [],
   "source": [
    "test1 = [[25,0,2,1,0,1,0,0,2,1,4,2,2,1,0,4,0,0,1]]\n",
    "test2 = [[68.93,0,2.0,1,1,8.0,0,18.0,2.0,1,1,0,1,1,1,0,0,6,1]]\n",
    "test3 = [[81.57,0,2.0,1,3,24.0,0,45.0,3.0,1,1,0,2,1,0,0,0,9,1]]\n",
    "test4 = [[52.98,0,1.0,0,0,10.0,1,10.0,1.0,0,1,0,2,1,0,7,0,9,1]]\n",
    "test5 = [[80,10,0,0,1,7.0,1,0,2.0,1,1,2,1,0,0,0,0,5,0]]"
   ]
  },
  {
   "cell_type": "code",
   "execution_count": 39,
   "id": "b2ddcb86",
   "metadata": {},
   "outputs": [],
   "source": [
    "test_scaled1 = loaded_scaler.transform(test1)\n",
    "test_scaled2 = loaded_scaler.transform(test2)\n",
    "test_scaled3 = loaded_scaler.transform(test3)\n",
    "test_scaled4 = loaded_scaler.transform(test4)\n",
    "test_scaled5 = loaded_scaler.transform(test5)\n"
   ]
  },
  {
   "cell_type": "code",
   "execution_count": 40,
   "id": "750a166c",
   "metadata": {},
   "outputs": [],
   "source": [
    "from sklearn.preprocessing import LabelEncoder, MinMaxScaler, StandardScaler"
   ]
  },
  {
   "cell_type": "code",
   "execution_count": 41,
   "id": "279deb19",
   "metadata": {},
   "outputs": [],
   "source": [
    "from sklearn.linear_model import LogisticRegression"
   ]
  },
  {
   "cell_type": "code",
   "execution_count": 42,
   "id": "d0a11476",
   "metadata": {},
   "outputs": [
    {
     "name": "stdout",
     "output_type": "stream",
     "text": [
      "[1]\n",
      "[0]\n",
      "[0]\n",
      "[1]\n",
      "[0]\n"
     ]
    }
   ],
   "source": [
    "print(loaded_model.predict(test_scaled1))\n",
    "print(loaded_model.predict(test_scaled2))\n",
    "print(loaded_model.predict(test_scaled3))\n",
    "print(loaded_model.predict(test_scaled4))\n",
    "print(loaded_model.predict(test_scaled5))"
   ]
  },
  {
   "cell_type": "code",
   "execution_count": null,
   "id": "d5ed6408",
   "metadata": {},
   "outputs": [],
   "source": []
  }
 ],
 "metadata": {
  "kernelspec": {
   "display_name": "Python 3",
   "language": "python",
   "name": "python3"
  },
  "language_info": {
   "codemirror_mode": {
    "name": "ipython",
    "version": 3
   },
   "file_extension": ".py",
   "mimetype": "text/x-python",
   "name": "python",
   "nbconvert_exporter": "python",
   "pygments_lexer": "ipython3",
   "version": "3.8.8"
  }
 },
 "nbformat": 4,
 "nbformat_minor": 5
}
