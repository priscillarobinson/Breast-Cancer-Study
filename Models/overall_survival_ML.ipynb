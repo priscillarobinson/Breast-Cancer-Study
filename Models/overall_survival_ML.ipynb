{
 "cells": [
  {
   "cell_type": "code",
   "execution_count": 1,
   "id": "42b15863",
   "metadata": {},
   "outputs": [],
   "source": [
    "%matplotlib inline\n",
    "import matplotlib.pyplot as plt\n",
    "import numpy as np\n",
    "import pandas as pd\n",
    "\n",
    "\n",
    "# Pre-Modeling Tasks\n",
    "\n",
    "from sklearn.preprocessing import LabelEncoder\n",
    "from sklearn.model_selection import train_test_split\n",
    "from sklearn.preprocessing import StandardScaler\n",
    "\n",
    "# Modeling\n",
    "from sklearn.linear_model import LinearRegression\n",
    "from sklearn.linear_model import Lasso\n",
    "from sklearn.linear_model import Ridge\n",
    "from sklearn.linear_model import ElasticNet\n",
    "from sklearn.linear_model import LogisticRegression\n",
    "\n",
    "# Metrics\n",
    "from sklearn.metrics import mean_squared_error"
   ]
  },
  {
   "cell_type": "code",
   "execution_count": 2,
   "id": "d338c7bb",
   "metadata": {},
   "outputs": [
    {
     "data": {
      "text/html": [
       "<div>\n",
       "<style scoped>\n",
       "    .dataframe tbody tr th:only-of-type {\n",
       "        vertical-align: middle;\n",
       "    }\n",
       "\n",
       "    .dataframe tbody tr th {\n",
       "        vertical-align: top;\n",
       "    }\n",
       "\n",
       "    .dataframe thead th {\n",
       "        text-align: right;\n",
       "    }\n",
       "</style>\n",
       "<table border=\"1\" class=\"dataframe\">\n",
       "  <thead>\n",
       "    <tr style=\"text-align: right;\">\n",
       "      <th></th>\n",
       "      <th>age_at_diagnosis</th>\n",
       "      <th>chemotherapy</th>\n",
       "      <th>neoplasm_histologic_grade</th>\n",
       "      <th>hormone_therapy</th>\n",
       "      <th>lymph_nodes_examined_positive</th>\n",
       "      <th>mutation_count</th>\n",
       "      <th>overall_survival_months</th>\n",
       "      <th>radio_therapy</th>\n",
       "      <th>tumor_size</th>\n",
       "      <th>tumor_stage</th>\n",
       "      <th>encoded_type_of_breast_surgery</th>\n",
       "      <th>encoded_cancer_type_detailed</th>\n",
       "      <th>encoded_cellularity</th>\n",
       "      <th>encoded_pam50_+_claudin-low_subtype</th>\n",
       "      <th>encoded_er_status</th>\n",
       "      <th>encoded_her2_status</th>\n",
       "      <th>encoded_tumor_other_histologic_subtype</th>\n",
       "      <th>encoded_inferred_menopausal_state</th>\n",
       "      <th>encoded_integrative_cluster</th>\n",
       "      <th>encoded_pr_status</th>\n",
       "    </tr>\n",
       "  </thead>\n",
       "  <tbody>\n",
       "    <tr>\n",
       "      <th>0</th>\n",
       "      <td>75.65</td>\n",
       "      <td>0</td>\n",
       "      <td>3.0</td>\n",
       "      <td>1</td>\n",
       "      <td>10</td>\n",
       "      <td>NaN</td>\n",
       "      <td>140.500000</td>\n",
       "      <td>1</td>\n",
       "      <td>22.0</td>\n",
       "      <td>2.0</td>\n",
       "      <td>1</td>\n",
       "      <td>1</td>\n",
       "      <td>3</td>\n",
       "      <td>6</td>\n",
       "      <td>1</td>\n",
       "      <td>0</td>\n",
       "      <td>0</td>\n",
       "      <td>0</td>\n",
       "      <td>4</td>\n",
       "      <td>0</td>\n",
       "    </tr>\n",
       "    <tr>\n",
       "      <th>1</th>\n",
       "      <td>43.19</td>\n",
       "      <td>0</td>\n",
       "      <td>3.0</td>\n",
       "      <td>1</td>\n",
       "      <td>0</td>\n",
       "      <td>2.0</td>\n",
       "      <td>84.633333</td>\n",
       "      <td>1</td>\n",
       "      <td>10.0</td>\n",
       "      <td>1.0</td>\n",
       "      <td>0</td>\n",
       "      <td>1</td>\n",
       "      <td>0</td>\n",
       "      <td>2</td>\n",
       "      <td>1</td>\n",
       "      <td>0</td>\n",
       "      <td>0</td>\n",
       "      <td>1</td>\n",
       "      <td>4</td>\n",
       "      <td>1</td>\n",
       "    </tr>\n",
       "    <tr>\n",
       "      <th>2</th>\n",
       "      <td>48.87</td>\n",
       "      <td>1</td>\n",
       "      <td>2.0</td>\n",
       "      <td>1</td>\n",
       "      <td>1</td>\n",
       "      <td>2.0</td>\n",
       "      <td>163.700000</td>\n",
       "      <td>0</td>\n",
       "      <td>15.0</td>\n",
       "      <td>2.0</td>\n",
       "      <td>1</td>\n",
       "      <td>1</td>\n",
       "      <td>0</td>\n",
       "      <td>3</td>\n",
       "      <td>1</td>\n",
       "      <td>0</td>\n",
       "      <td>0</td>\n",
       "      <td>1</td>\n",
       "      <td>3</td>\n",
       "      <td>1</td>\n",
       "    </tr>\n",
       "    <tr>\n",
       "      <th>3</th>\n",
       "      <td>47.68</td>\n",
       "      <td>1</td>\n",
       "      <td>2.0</td>\n",
       "      <td>1</td>\n",
       "      <td>3</td>\n",
       "      <td>1.0</td>\n",
       "      <td>164.933333</td>\n",
       "      <td>1</td>\n",
       "      <td>25.0</td>\n",
       "      <td>2.0</td>\n",
       "      <td>1</td>\n",
       "      <td>4</td>\n",
       "      <td>2</td>\n",
       "      <td>3</td>\n",
       "      <td>1</td>\n",
       "      <td>0</td>\n",
       "      <td>4</td>\n",
       "      <td>1</td>\n",
       "      <td>10</td>\n",
       "      <td>1</td>\n",
       "    </tr>\n",
       "    <tr>\n",
       "      <th>4</th>\n",
       "      <td>76.97</td>\n",
       "      <td>1</td>\n",
       "      <td>3.0</td>\n",
       "      <td>1</td>\n",
       "      <td>8</td>\n",
       "      <td>2.0</td>\n",
       "      <td>41.366667</td>\n",
       "      <td>1</td>\n",
       "      <td>40.0</td>\n",
       "      <td>2.0</td>\n",
       "      <td>1</td>\n",
       "      <td>4</td>\n",
       "      <td>0</td>\n",
       "      <td>3</td>\n",
       "      <td>1</td>\n",
       "      <td>0</td>\n",
       "      <td>4</td>\n",
       "      <td>0</td>\n",
       "      <td>10</td>\n",
       "      <td>1</td>\n",
       "    </tr>\n",
       "  </tbody>\n",
       "</table>\n",
       "</div>"
      ],
      "text/plain": [
       "   age_at_diagnosis  chemotherapy  neoplasm_histologic_grade  hormone_therapy  \\\n",
       "0             75.65             0                        3.0                1   \n",
       "1             43.19             0                        3.0                1   \n",
       "2             48.87             1                        2.0                1   \n",
       "3             47.68             1                        2.0                1   \n",
       "4             76.97             1                        3.0                1   \n",
       "\n",
       "   lymph_nodes_examined_positive  mutation_count  overall_survival_months  \\\n",
       "0                             10             NaN               140.500000   \n",
       "1                              0             2.0                84.633333   \n",
       "2                              1             2.0               163.700000   \n",
       "3                              3             1.0               164.933333   \n",
       "4                              8             2.0                41.366667   \n",
       "\n",
       "   radio_therapy  tumor_size  tumor_stage  encoded_type_of_breast_surgery  \\\n",
       "0              1        22.0          2.0                               1   \n",
       "1              1        10.0          1.0                               0   \n",
       "2              0        15.0          2.0                               1   \n",
       "3              1        25.0          2.0                               1   \n",
       "4              1        40.0          2.0                               1   \n",
       "\n",
       "   encoded_cancer_type_detailed  encoded_cellularity  \\\n",
       "0                             1                    3   \n",
       "1                             1                    0   \n",
       "2                             1                    0   \n",
       "3                             4                    2   \n",
       "4                             4                    0   \n",
       "\n",
       "   encoded_pam50_+_claudin-low_subtype  encoded_er_status  \\\n",
       "0                                    6                  1   \n",
       "1                                    2                  1   \n",
       "2                                    3                  1   \n",
       "3                                    3                  1   \n",
       "4                                    3                  1   \n",
       "\n",
       "   encoded_her2_status  encoded_tumor_other_histologic_subtype  \\\n",
       "0                    0                                       0   \n",
       "1                    0                                       0   \n",
       "2                    0                                       0   \n",
       "3                    0                                       4   \n",
       "4                    0                                       4   \n",
       "\n",
       "   encoded_inferred_menopausal_state  encoded_integrative_cluster  \\\n",
       "0                                  0                            4   \n",
       "1                                  1                            4   \n",
       "2                                  1                            3   \n",
       "3                                  1                           10   \n",
       "4                                  0                           10   \n",
       "\n",
       "   encoded_pr_status  \n",
       "0                  0  \n",
       "1                  1  \n",
       "2                  1  \n",
       "3                  1  \n",
       "4                  1  "
      ]
     },
     "execution_count": 2,
     "metadata": {},
     "output_type": "execute_result"
    }
   ],
   "source": [
    "# Read the csv file into a pandas DataFrame\n",
    "df=pd.read_csv(\"df_clinical_survival_time_ML.csv\")\n",
    "df.head()"
   ]
  },
  {
   "cell_type": "code",
   "execution_count": 3,
   "id": "cc59ae6f",
   "metadata": {
    "scrolled": true
   },
   "outputs": [],
   "source": [
    "# Drop the null columns where all values are null\n",
    "df = df.dropna(axis='columns', how='all')\n",
    "# Drop the null rows\n",
    "df = df.dropna()\n"
   ]
  },
  {
   "cell_type": "code",
   "execution_count": 4,
   "id": "a7b90fe9",
   "metadata": {},
   "outputs": [],
   "source": [
    "# Label-encode data set\n",
    "label_encoder = LabelEncoder()\n",
    "df['overall_survival_months'] = label_encoder.fit_transform(df['overall_survival_months'])"
   ]
  },
  {
   "cell_type": "code",
   "execution_count": 5,
   "id": "f6fcb0d4",
   "metadata": {},
   "outputs": [
    {
     "name": "stdout",
     "output_type": "stream",
     "text": [
      "(1017, 19) (1017, 1)\n"
     ]
    }
   ],
   "source": [
    "# Assign X (data) and y (target)\n",
    "\n",
    "X = df.drop(\"overall_survival_months\", axis=1).values\n",
    "y = df['overall_survival_months'].values.reshape(-1,1)\n",
    "print(X.shape, y.shape)"
   ]
  },
  {
   "cell_type": "code",
   "execution_count": 6,
   "id": "5bfb147b",
   "metadata": {},
   "outputs": [],
   "source": [
    "# Split the data into training and testing\n",
    "\n",
    "X_train, X_test, y_train, y_test = train_test_split(X, y, random_state=42)"
   ]
  },
  {
   "cell_type": "code",
   "execution_count": 7,
   "id": "bda09663",
   "metadata": {},
   "outputs": [],
   "source": [
    "# Create a StandardScater model and fit it to the training data\n",
    "\n",
    "X_scaler = StandardScaler().fit(X_train)\n",
    "y_scaler = StandardScaler().fit(y_train)\n",
    "\n",
    "X_train = X_scaler.transform(X_train)\n",
    "X_test= X_scaler.transform(X_test)\n",
    "y_train= y_scaler.transform(y_train)\n",
    "y_test= y_scaler.transform(y_test)\n",
    "\n"
   ]
  },
  {
   "cell_type": "code",
   "execution_count": 10,
   "id": "5b2cf55d",
   "metadata": {},
   "outputs": [],
   "source": [
    "# Linear Regression\n",
    "linreg= LinearRegression()\n",
    "linreg.fit(X_train, y_train)\n",
    "pred_linreg = linreg.predict(X_test)"
   ]
  },
  {
   "cell_type": "code",
   "execution_count": 12,
   "id": "ffc0c692",
   "metadata": {},
   "outputs": [
    {
     "data": {
      "image/png": "[encoded data removed]",
      "text/plain": [
       "<Figure size 432x288 with 1 Axes>"
      ]
     },
     "metadata": {
      "needs_background": "light"
     },
     "output_type": "display_data"
    }
   ],
   "source": [
    "predictions = linreg.predict(X_test)\n",
    "linreg.fit(X_train, y_train)\n",
    "plt.scatter(linreg.predict(X_train), y_train - linreg.predict(X_train), c=\"blue\", label=\"Training Data\")\n",
    "plt.scatter(linreg.predict(X_test), y_test - linreg.predict(X_test), c=\"orange\", label=\"Testing Data\")\n",
    "plt.legend()\n",
    "plt.hlines(y=0, xmin=y_test.min(), xmax=y_test.max())\n",
    "plt.title(\"Residual Plot\")\n",
    "plt.show()"
   ]
  },
  {
   "cell_type": "code",
   "execution_count": 13,
   "id": "ea3d7cc0",
   "metadata": {},
   "outputs": [
    {
     "name": "stdout",
     "output_type": "stream",
     "text": [
      "MSE: 0.8517861320151725, R2: 0.044234513296449895\n"
     ]
    }
   ],
   "source": [
    "# calculate MSE and R2\n",
    "MSE = mean_squared_error(y_test, pred_linreg)\n",
    "r2 = linreg.score(X_test, y_test)\n",
    "print(f\"MSE: {MSE}, R2: {r2}\")\n"
   ]
  },
  {
   "cell_type": "code",
   "execution_count": 14,
   "id": "080e0f91",
   "metadata": {},
   "outputs": [
    {
     "name": "stdout",
     "output_type": "stream",
     "text": [
      "MSE: 0.8437265887373016, R2: 0.05327790225766549\n"
     ]
    }
   ],
   "source": [
    "lasso = Lasso(alpha=.01).fit(X_train, y_train)\n",
    "\n",
    "linreg = lasso.predict(X_test)\n",
    "\n",
    "MSE = mean_squared_error(y_test, linreg)\n",
    "r2 = lasso.score(X_test, y_test)\n",
    "print(f\"MSE: {MSE}, R2: {r2}\")"
   ]
  },
  {
   "cell_type": "code",
   "execution_count": 15,
   "id": "b3343c54",
   "metadata": {},
   "outputs": [
    {
     "name": "stdout",
     "output_type": "stream",
     "text": [
      "MSE: 0.8517838079597195, R2: 0.04423712105432198\n"
     ]
    }
   ],
   "source": [
    "ridge = Ridge(alpha=.01).fit(X_train, y_train)\n",
    "\n",
    "linreg = ridge.predict(X_test)\n",
    "\n",
    "MSE = mean_squared_error(y_test, linreg)\n",
    "r2 = ridge.score(X_test, y_test)\n",
    "### END SOLUTION\n",
    "\n",
    "print(f\"MSE: {MSE}, R2: {r2}\")"
   ]
  },
  {
   "cell_type": "code",
   "execution_count": 16,
   "id": "f108b60b",
   "metadata": {},
   "outputs": [
    {
     "name": "stdout",
     "output_type": "stream",
     "text": [
      "MSE: 0.8465286032245021, R2: 0.05013383986987607\n"
     ]
    }
   ],
   "source": [
    "elasticnet = ElasticNet(alpha=.01).fit(X_train, y_train)\n",
    "\n",
    "linreg = elasticnet.predict(X_test)\n",
    "\n",
    "MSE = mean_squared_error(y_test, linreg)\n",
    "r2 = elasticnet.score(X_test, y_test)\n",
    "### END SOLUTION\n",
    "\n",
    "print(f\"MSE: {MSE}, R2: {r2}\")"
   ]
  },
  {
   "cell_type": "code",
   "execution_count": null,
   "id": "128610b9",
   "metadata": {},
   "outputs": [],
   "source": []
  },
  {
   "cell_type": "code",
   "execution_count": null,
   "id": "3a50da18",
   "metadata": {},
   "outputs": [],
   "source": []
  }
 ],
 "metadata": {
  "kernelspec": {
   "display_name": "Python 3",
   "language": "python",
   "name": "python3"
  },
  "language_info": {
   "codemirror_mode": {
    "name": "ipython",
    "version": 3
   },
   "file_extension": ".py",
   "mimetype": "text/x-python",
   "name": "python",
   "nbconvert_exporter": "python",
   "pygments_lexer": "ipython3",
   "version": "3.8.8"
  }
 },
 "nbformat": 4,
 "nbformat_minor": 5
}
